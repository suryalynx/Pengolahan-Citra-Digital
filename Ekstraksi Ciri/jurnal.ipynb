{
 "cells": [
  {
   "attachments": {},
   "cell_type": "markdown",
   "metadata": {},
   "source": [
    "### MODUL VIII"
   ]
  },
  {
   "attachments": {},
   "cell_type": "markdown",
   "metadata": {},
   "source": [
    "#### EKSTRAKSI CIRI"
   ]
  },
  {
   "cell_type": "code",
   "execution_count": 2,
   "metadata": {},
   "outputs": [],
   "source": [
    "import cv2\n",
    "import numpy as np\n",
    "import os\n",
    "import pandas as pd\n",
    "from tqdm import tqdm\n",
    "import math\n",
    "import csv"
   ]
  },
  {
   "attachments": {},
   "cell_type": "markdown",
   "metadata": {},
   "source": [
    "cv2 untuk pemrosesan gambar, numpy digunakan untuk manipulasi data numerik, os untuk operasi pada sistem operasi, pandas untuk manipulasi dan analisis data tabular, tqdm untuk melacak kemajuan dalam loop, dan math untuk fungsi matematika umum"
   ]
  },
  {
   "attachments": {},
   "cell_type": "markdown",
   "metadata": {},
   "source": [
    "---"
   ]
  },
  {
   "attachments": {},
   "cell_type": "markdown",
   "metadata": {},
   "source": [
    "##### Lakukan normalisasi terhadap dataset tersebut kemudian resize dataset ke ukuran 256 pixel.\n",
    "##### Ekstraksilah dataset yang diberikan menggunakan sudut 0, 45, 90 dan 135. Dimana masing-masing sudut tersebut akan menghasilkan matrix baru.\n",
    "##### Matrix tersebut akan diekstraksi dan menghasilkan fitur berikut:\n",
    "##### a. Kontras\n",
    "##### b. Dissimiliarity\n",
    "##### c. Homogenitas\n",
    "##### d. Entropi\n",
    "##### e. ASM\n",
    "##### f. Energy\n",
    "##### g. Correlation\n",
    "##### Buatlah korelasi fitur menggunakan Person Correlation.\n",
    "##### Tampilkanlah 5 korelasi tertinggi dari hasil korelasi fitur kalian.\n",
    "##### Analisislah perbedaan hasil ekstraksi fitur yang sudah dilakukan."
   ]
  },
  {
   "cell_type": "code",
   "execution_count": 3,
   "metadata": {},
   "outputs": [],
   "source": [
    "def normalisasi(folder):\n",
    "    image = []\n",
    "    \n",
    "    for label in os.listdir(folder):\n",
    "        label_path = os.path.join(folder, label)\n",
    "        \n",
    "        if os.path.isdir(label_path):            \n",
    "            for filename in os.listdir(label_path):\n",
    "                file_path = os.path.join(label_path, filename)\n",
    "                img = cv2.imread(file_path)\n",
    "                \n",
    "                if img is not None:\n",
    "                    normalized_image = cv2.normalize(img, None, 0, 255, cv2.NORM_MINMAX, cv2.CV_8U)\n",
    "                    height, width = normalized_image.shape[:2]\n",
    "                    if height > width:\n",
    "                        scale_factor = 256 / height\n",
    "                    else:\n",
    "                        scale_factor = 256 / width\n",
    "\n",
    "                    resized_image = cv2.resize(normalized_image, (0, 0), fx=scale_factor, fy=scale_factor)\n",
    "                    image.append(resized_image)\n",
    "                    \n",
    "                else:\n",
    "                    print(f\"Gagal membaca gambar: {file_path}\")\n",
    "                    \n",
    "    return image"
   ]
  },
  {
   "attachments": {},
   "cell_type": "markdown",
   "metadata": {},
   "source": [
    "pada code diatas merupakan code untuk melakukan normalisasi dan melakukan resize pada semua citra yang berada pada folder yang ditunjuk. langkah pertama yang dilakukan adalah membuat tempat penyimpanan normalisasi dan resize dari citra. kemudian melakukan perulangan untuk mengecek folder yang dituju, jika nama folder sesuai dengan yang buat maka akan membaca semua atau seluruh gambar dari sub folder dari folder awal. kemudian melakukan normalisasi pada setiap citra lalu meresize hasil normalisasi tersebut menjadi 256 piksel. hasil dari normalisasi dan resize citra akan ditambahkan pada tempat yang telah disiapkan pada awal langkah tadi."
   ]
  },
  {
   "cell_type": "code",
   "execution_count": 4,
   "metadata": {},
   "outputs": [],
   "source": [
    "folder = \"fast-food\"\n",
    "images = normalisasi(folder)"
   ]
  },
  {
   "attachments": {},
   "cell_type": "markdown",
   "metadata": {},
   "source": [
    "pada code diatas digunakan untuk menginisialisasi bahwa folder yang akan digunakan bernama fast-food, kemudian akan melakukan fungsi normalisasi dan telah dibuat sebelumnya dengan memanggilnya dengan parameternya yaitu folder yang akan digunakan tersebut."
   ]
  },
  {
   "cell_type": "code",
   "execution_count": 5,
   "metadata": {},
   "outputs": [],
   "source": [
    "def derajat0(img):\n",
    "    max = np.max(img)\n",
    "    temp = np.zeros([max + 1, max + 1])\n",
    "    \n",
    "    for i in range(len(img)):\n",
    "        for j in range(len(img[i]) - 1):\n",
    "            temp[img[i, j], img[i, j + 1]] += 1\n",
    "    \n",
    "    data = temp + temp.T\n",
    "    data /= np.sum(data)\n",
    "    \n",
    "    return data\n"
   ]
  },
  {
   "attachments": {},
   "cell_type": "markdown",
   "metadata": {},
   "source": [
    "pada code diatas merupakan code untuk membuat fungsi derajat 0 dengan cara pertama mencari nilai maximum dari citranya kemudian membuat array kosong yang seukuran dengan nilai maximum citra ditambah 1 kemudian melakukan perulangan untuk mengecek ukuran atau panjang dari gambar dari tinggi dan lebar dikurangi 1 kemudian melakukan perhitungan temp dan img akan ditambah 1 seiring berjalanya perulangan tersebut. kemudian hasil dari temp akan ditambahkan dengan nilai transpostnya kemudian dibagi dengan jumlah total nilai dari hasil pertambahan tadi."
   ]
  },
  {
   "cell_type": "code",
   "execution_count": 6,
   "metadata": {},
   "outputs": [],
   "source": [
    "def derajat45(img):\n",
    "    max = np.max(img)\n",
    "    temp = np.zeros([max + 1, max + 1])\n",
    "    \n",
    "    for i in range(len(img) - 1):\n",
    "        for j in range(len(img[i]) - 1):\n",
    "            temp[img[i + 1, j], img[i, j + 1]] += 1\n",
    "    \n",
    "    data = temp + temp.T\n",
    "    data /= np.sum(data)\n",
    "    \n",
    "    return data\n"
   ]
  },
  {
   "attachments": {},
   "cell_type": "markdown",
   "metadata": {},
   "source": [
    "pada code diatas merupakan code untuk membuat fungsi derajat 45 dengan cara pertama mencari nilai maximum dari citranya kemudian membuat array kosong yang seukuran dengan nilai maximum citra ditambah 1 kemudian melakukan perulangan untuk mengecek ukuran atau panjang dari gambar dari tinggi dikurangi 1 dan lebar dikurangi 1 kemudian melakukan perhitungan temp dan img akan ditambah 1 seiring berjalanya perulangan tersebut. kemudian hasil dari temp akan ditambahkan dengan nilai transpostnya kemudian dibagi dengan jumlah total nilai dari hasil pertambahan tadi."
   ]
  },
  {
   "cell_type": "code",
   "execution_count": 7,
   "metadata": {},
   "outputs": [],
   "source": [
    "def derajat90(img):\n",
    "    max = np.max(img)\n",
    "    temp = np.zeros([max + 1, max + 1])\n",
    "    \n",
    "    for i in range(len(img) - 1):\n",
    "        for j in range(len(img[i]) - 1):\n",
    "            temp[img[i + 1, j], img[i, j]] += 1\n",
    "    \n",
    "    data = temp + temp.T\n",
    "    data /= np.sum(data)\n",
    "    \n",
    "    return data\n"
   ]
  },
  {
   "attachments": {},
   "cell_type": "markdown",
   "metadata": {},
   "source": [
    "pada code diatas merupakan code untuk membuat fungsi derajat 90 dengan cara pertama mencari nilai maximum dari citranya kemudian membuat array kosong yang seukuran dengan nilai maximum citra ditambah 1 kemudian melakukan perulangan untuk mengecek ukuran atau panjang dari gambar dari tinggi dikurangi 1 dan lebar dikurangi 1 kemudian melakukan perhitungan temp dan img akan ditambah 1 seiring berjalanya perulangan tersebut. kemudian hasil dari temp akan ditambahkan dengan nilai transpostnya kemudian dibagi dengan jumlah total nilai dari hasil pertambahan tadi."
   ]
  },
  {
   "cell_type": "code",
   "execution_count": 8,
   "metadata": {},
   "outputs": [],
   "source": [
    "def derajat135(img):\n",
    "    max = np.max(img)\n",
    "    temp = np.zeros([max + 1, max + 1])\n",
    "    \n",
    "    for i in range(len(img) - 1):\n",
    "        for j in range(len(img[i]) - 1):\n",
    "            temp[img[i, j], img[i + 1, j + 1]] += 1\n",
    "    \n",
    "    data = temp + temp.T\n",
    "    data /= np.sum(data)\n",
    "    \n",
    "    return data\n"
   ]
  },
  {
   "attachments": {},
   "cell_type": "markdown",
   "metadata": {},
   "source": [
    "pada code diatas merupakan code untuk membuat fungsi derajat 135 dengan cara pertama mencari nilai maximum dari citranya kemudian membuat array kosong yang seukuran dengan nilai maximum citra ditambah 1 kemudian melakukan perulangan untuk mengecek ukuran atau panjang dari gambar dari tinggi dkurangi 1 dan lebar dikurangi 1 kemudian melakukan perhitungan temp dan img akan ditambah 1 seiring berjalanya perulangan tersebut. kemudian hasil dari temp akan ditambahkan dengan nilai transpostnya kemudian dibagi dengan jumlah total nilai dari hasil pertambahan tadi."
   ]
  },
  {
   "cell_type": "code",
   "execution_count": 9,
   "metadata": {},
   "outputs": [],
   "source": [
    "def ekstraksi(image):\n",
    "    features = []\n",
    "    \n",
    "    for img in tqdm(image, desc='Ekstraksi'):\n",
    "        data = []\n",
    "        data.append(derajat0(img))\n",
    "        data.append(derajat45(img))\n",
    "        data.append(derajat90(img))\n",
    "        data.append(derajat135(img))\n",
    "        features.append(data)\n",
    "        \n",
    "    return features\n"
   ]
  },
  {
   "attachments": {},
   "cell_type": "markdown",
   "metadata": {},
   "source": [
    "pada code diatas merupakan code untuk melakukan fungsi ekstraksi dari citra dengan derajat derajat yang sudah dibuat sebelumnya yaitu dari 0, 45, 90, dan 135 kemudian ditambahkan pada tempat yang sudah dibuat sebelumnya."
   ]
  },
  {
   "cell_type": "code",
   "execution_count": 10,
   "metadata": {},
   "outputs": [
    {
     "name": "stderr",
     "output_type": "stream",
     "text": [
      "Ekstraksi: 100%|██████████| 150/150 [07:06<00:00,  2.84s/it]\n"
     ]
    }
   ],
   "source": [
    "jumlah = 150\n",
    "subset = images[:jumlah]\n",
    "features = ekstraksi(subset)"
   ]
  },
  {
   "attachments": {},
   "cell_type": "markdown",
   "metadata": {},
   "source": [
    "pada code diatas merupakan code untuk membuat batasan cumlah citra yang akan diekstraksi yaitu sebanyak 150 pada setiap label, kemudian memanggil fungsi ekstraksi dengan parameter subset yaitu seluruh gambar dengan batas yang telah ditentukan yaitu 150"
   ]
  },
  {
   "cell_type": "code",
   "execution_count": 10,
   "metadata": {},
   "outputs": [],
   "source": [
    "def kontras(data):\n",
    "    return sum([x * pow(i - j, 2) for i, row in enumerate(data) for j, x in enumerate(row)])"
   ]
  },
  {
   "attachments": {},
   "cell_type": "markdown",
   "metadata": {},
   "source": [
    "pada code diatas merupakan code untuk melakukan fungsi kontras untuk citra. fungsi ini menghitung nilai kontras dari matriks yang telah diberikan. dengan mengalikan x dengan kuadrat dari perbedaan i dan j , dengan perulangan dari setiap pasangan indeks dan nilai pada data dan pada row kemdudian menjumlahkan secara keseluruhan dari nilai-nilai tersebut"
   ]
  },
  {
   "cell_type": "code",
   "execution_count": 11,
   "metadata": {},
   "outputs": [],
   "source": [
    "def dissimilarity(data):\n",
    "    return sum([abs(i - j) * x for i, row in enumerate(data) for j, x in enumerate(row)])"
   ]
  },
  {
   "attachments": {},
   "cell_type": "markdown",
   "metadata": {},
   "source": [
    "pada code diatas merupakan code untuk melakukan fungsi dissimilarity untuk citra. fungsi ini menghitung nilai dissimilarity dari matriks yang telah diberikan.dengan mencari nilai absolut dari perbadingan i dan j kemudian dikalikan nilai x , dengan perulangan dari setiap pasangan indeks dan nilai pada data dan pada row kemdudian menjumlahkan secara keseluruhan dari nilai-nilai tersebut"
   ]
  },
  {
   "cell_type": "code",
   "execution_count": 12,
   "metadata": {},
   "outputs": [],
   "source": [
    "def homogenitas(data):\n",
    "    return sum([x / (1 + pow(i - j, 2)) for i, row in enumerate(data) for j, x in enumerate(row)])"
   ]
  },
  {
   "attachments": {},
   "cell_type": "markdown",
   "metadata": {},
   "source": [
    "pada code diatas merupakan code untuk melakukan fungsi homogenitas untuk citra. fungsi ini menghitung nilai homogenitas dari matriks yang telah diberikan.dengan melakukan nilai dibagi dengan 1 + kuadrat dari perbandingan i dan j , dengan perulangan dari setiap pasangan indeks dan nilai pada data dan pada row kemdudian menjumlahkan secara keseluruhan dari nilai-nilai tersebut"
   ]
  },
  {
   "cell_type": "code",
   "execution_count": 13,
   "metadata": {},
   "outputs": [],
   "source": [
    "def entropy(data):\n",
    "    return -sum([x * math.log(x) for row in data for x in row if x > 0.0])"
   ]
  },
  {
   "attachments": {},
   "cell_type": "markdown",
   "metadata": {},
   "source": [
    "pada code diatas merupakan code untuk melakukan fungsi entropy untuk citra. fungsi ini menghitung nilai entropy dari matriks yang telah diberikan.dengan mengalikan nilai dengan log dari nilai x , dengan perulangan dari setiap pasangan indeks dan nilai pada data dan pada row dengan kondisi jika nilai x lebih dari 0.0 . kemudian menjumlahkan secara keseluruhan dari nilai-nilai tersebut dengan menjadi nilai minus."
   ]
  },
  {
   "cell_type": "code",
   "execution_count": 14,
   "metadata": {},
   "outputs": [],
   "source": [
    "def asm(data):\n",
    "    return sum([x ** 2 for row in data for x in row])"
   ]
  },
  {
   "attachments": {},
   "cell_type": "markdown",
   "metadata": {},
   "source": [
    "pada code diatas merupakan code untuk melakukan fungsi asm untuk citra. fungsi ini menghitung nilai asm dari matriks yang telah diberikan. dengan cara memjumlahkan total dari nilai x kuadrat dari perulangan baris pada data dan nilai x pada baris."
   ]
  },
  {
   "cell_type": "code",
   "execution_count": 15,
   "metadata": {},
   "outputs": [],
   "source": [
    "def energy(data):\n",
    "    return sum([x ** 2 for row in data for x in row])"
   ]
  },
  {
   "attachments": {},
   "cell_type": "markdown",
   "metadata": {},
   "source": [
    "pada code diatas merupakan code untuk melakukan fungsi asm untuk citra. fungsi ini menghitung nilai asm dari matriks yang telah diberikan. dengan cara memjumlahkan total dari nilai x kuadrat dari perulangan baris pada data dan nilai x pada baris."
   ]
  },
  {
   "cell_type": "code",
   "execution_count": 16,
   "metadata": {},
   "outputs": [],
   "source": [
    "def korelasi(data):\n",
    "    jumlahBaris = len(data)\n",
    "    jumlahKolom = len(data[0])\n",
    "    sumIJ = sum(i * j * data[i][j] for i in range(jumlahBaris) for j in range(jumlahKolom))\n",
    "    sumI = sum(i * data[i][j] for i in range(jumlahBaris) for j in range(jumlahKolom))\n",
    "    sumJ = sum(j * data[i][j] for i in range(jumlahBaris) for j in range(jumlahKolom))\n",
    "    sumI_squared = sum((i - sumI) ** 2 * data[i][j] for i in range(jumlahBaris) for j in range(jumlahKolom))\n",
    "    sumJ_squared = sum((j - sumJ) ** 2 * data[i][j] for i in range(jumlahBaris) for j in range(jumlahKolom))\n",
    "\n",
    "    std_i = math.sqrt(sumI_squared)\n",
    "    std_j = math.sqrt(sumJ_squared)\n",
    "\n",
    "    if std_i != 0 and std_j != 0:\n",
    "        kor = (sumIJ - sumI * sumJ) / (std_i * std_j)\n",
    "    else:\n",
    "        kor = 0\n",
    "\n",
    "    return kor\n"
   ]
  },
  {
   "attachments": {},
   "cell_type": "markdown",
   "metadata": {},
   "source": [
    "pada code diatas merupakan code untuk membuat fungsi korelasi pada dataset. dengan cara mencari ukuran panjang baris dan ukuran panjang dari lebar citra. kemudian melakukan beberapa fungsi penjumlahan. pertama penjumlahan IJ dengan cara mencari nilai total dari i dikali dengan j dan dikali dengan data dengan peruangan i dengan range jumlah baris dan j jumlah kolom. kedua penjumlahan I dengan cara mencari nilai total dari i dikali dengan data dengan peruangan i dengan range jumlah baris dan j jumlah kolom, ketiga penjumlahan J dengan cara mencari nilai total dari j dan dikali dengan data dengan peruangan i dengan range jumlah baris dan j jumlah kolom, keempat penjumalahan iSquared dengan cara mencari jumlah total dari selisih I dengan hasil penjumlahan i kuadrat dan dikali dengan data dengan peruangan i dengan range jumlah baris dan j jumlah kolom, kelimapenjumalahan JSquared dengan cara mencari jumlah total dari selisih j dengan hasil penjumlahan J kuadrat dan dikali dengan data dengan peruangan i dengan range jumlah baris dan j jumlah kolom. kemudian melakukan operasi akar pada keempat dan kelima. kemudian jika hasil akar keempat tidak sama dengan 0 dan hasil akar kelima tidak sama dengan nol maka selisih dari penjumlahan hasil pertama dengan kedua yang dikali dengan ketiga dibagi dengan hasil akar dari penjumlahan keempat dikali dengan hasil akar penjumlahan kelima."
   ]
  },
  {
   "cell_type": "code",
   "execution_count": 17,
   "metadata": {},
   "outputs": [
    {
     "name": "stderr",
     "output_type": "stream",
     "text": [
      "Ekstraksi: 100%|██████████| 150/150 [06:24<00:00,  2.57s/it]\n"
     ]
    },
    {
     "data": {
      "text/html": [
       "<div>\n",
       "<style scoped>\n",
       "    .dataframe tbody tr th:only-of-type {\n",
       "        vertical-align: middle;\n",
       "    }\n",
       "\n",
       "    .dataframe tbody tr th {\n",
       "        vertical-align: top;\n",
       "    }\n",
       "\n",
       "    .dataframe thead th {\n",
       "        text-align: right;\n",
       "    }\n",
       "</style>\n",
       "<table border=\"1\" class=\"dataframe\">\n",
       "  <thead>\n",
       "    <tr style=\"text-align: right;\">\n",
       "      <th></th>\n",
       "      <th>path</th>\n",
       "      <th>kontras0</th>\n",
       "      <th>dissimilarity0</th>\n",
       "      <th>homogenitas0</th>\n",
       "      <th>entropi0</th>\n",
       "      <th>asm0</th>\n",
       "      <th>energi0</th>\n",
       "      <th>correlation0</th>\n",
       "      <th>kontras45</th>\n",
       "      <th>dissimilarity45</th>\n",
       "      <th>...</th>\n",
       "      <th>asm90</th>\n",
       "      <th>energi90</th>\n",
       "      <th>correlation90</th>\n",
       "      <th>kontras135</th>\n",
       "      <th>dissimilarity135</th>\n",
       "      <th>homogenitas135</th>\n",
       "      <th>entropi135</th>\n",
       "      <th>asm135</th>\n",
       "      <th>energi135</th>\n",
       "      <th>correlation135</th>\n",
       "    </tr>\n",
       "  </thead>\n",
       "  <tbody>\n",
       "    <tr>\n",
       "      <th>0</th>\n",
       "      <td>fast-food</td>\n",
       "      <td>120.453340</td>\n",
       "      <td>6.495586</td>\n",
       "      <td>0.236193</td>\n",
       "      <td>8.926496</td>\n",
       "      <td>0.000216</td>\n",
       "      <td>0.000216</td>\n",
       "      <td>0.988066</td>\n",
       "      <td>242.067950</td>\n",
       "      <td>9.438963</td>\n",
       "      <td>...</td>\n",
       "      <td>0.000162</td>\n",
       "      <td>0.000162</td>\n",
       "      <td>0.979103</td>\n",
       "      <td>373.491710</td>\n",
       "      <td>11.223419</td>\n",
       "      <td>0.144822</td>\n",
       "      <td>9.430210</td>\n",
       "      <td>0.000124</td>\n",
       "      <td>0.000124</td>\n",
       "      <td>0.963085</td>\n",
       "    </tr>\n",
       "    <tr>\n",
       "      <th>1</th>\n",
       "      <td>fast-food</td>\n",
       "      <td>176.730498</td>\n",
       "      <td>8.408995</td>\n",
       "      <td>0.165553</td>\n",
       "      <td>8.974094</td>\n",
       "      <td>0.000223</td>\n",
       "      <td>0.000223</td>\n",
       "      <td>0.966888</td>\n",
       "      <td>315.747108</td>\n",
       "      <td>11.085837</td>\n",
       "      <td>...</td>\n",
       "      <td>0.000249</td>\n",
       "      <td>0.000249</td>\n",
       "      <td>0.966435</td>\n",
       "      <td>307.730981</td>\n",
       "      <td>11.255349</td>\n",
       "      <td>0.123010</td>\n",
       "      <td>9.244417</td>\n",
       "      <td>0.000165</td>\n",
       "      <td>0.000165</td>\n",
       "      <td>0.942235</td>\n",
       "    </tr>\n",
       "    <tr>\n",
       "      <th>2</th>\n",
       "      <td>fast-food</td>\n",
       "      <td>1156.074459</td>\n",
       "      <td>20.088963</td>\n",
       "      <td>0.125185</td>\n",
       "      <td>9.659761</td>\n",
       "      <td>0.000200</td>\n",
       "      <td>0.000200</td>\n",
       "      <td>0.916571</td>\n",
       "      <td>1824.586052</td>\n",
       "      <td>26.301717</td>\n",
       "      <td>...</td>\n",
       "      <td>0.000213</td>\n",
       "      <td>0.000213</td>\n",
       "      <td>0.932012</td>\n",
       "      <td>1835.797602</td>\n",
       "      <td>26.497889</td>\n",
       "      <td>0.093650</td>\n",
       "      <td>9.893832</td>\n",
       "      <td>0.000139</td>\n",
       "      <td>0.000139</td>\n",
       "      <td>0.867657</td>\n",
       "    </tr>\n",
       "    <tr>\n",
       "      <th>3</th>\n",
       "      <td>fast-food</td>\n",
       "      <td>205.873741</td>\n",
       "      <td>9.234456</td>\n",
       "      <td>0.162262</td>\n",
       "      <td>9.221891</td>\n",
       "      <td>0.000220</td>\n",
       "      <td>0.000220</td>\n",
       "      <td>0.981645</td>\n",
       "      <td>481.411467</td>\n",
       "      <td>14.249841</td>\n",
       "      <td>...</td>\n",
       "      <td>0.000180</td>\n",
       "      <td>0.000180</td>\n",
       "      <td>0.972769</td>\n",
       "      <td>445.157944</td>\n",
       "      <td>13.774665</td>\n",
       "      <td>0.109468</td>\n",
       "      <td>9.578800</td>\n",
       "      <td>0.000146</td>\n",
       "      <td>0.000146</td>\n",
       "      <td>0.960335</td>\n",
       "    </tr>\n",
       "    <tr>\n",
       "      <th>4</th>\n",
       "      <td>fast-food</td>\n",
       "      <td>276.401076</td>\n",
       "      <td>10.381111</td>\n",
       "      <td>0.164868</td>\n",
       "      <td>9.258960</td>\n",
       "      <td>0.000199</td>\n",
       "      <td>0.000199</td>\n",
       "      <td>0.967434</td>\n",
       "      <td>620.398318</td>\n",
       "      <td>15.940688</td>\n",
       "      <td>...</td>\n",
       "      <td>0.000171</td>\n",
       "      <td>0.000171</td>\n",
       "      <td>0.957926</td>\n",
       "      <td>486.107997</td>\n",
       "      <td>13.847786</td>\n",
       "      <td>0.123707</td>\n",
       "      <td>9.522920</td>\n",
       "      <td>0.000141</td>\n",
       "      <td>0.000141</td>\n",
       "      <td>0.942768</td>\n",
       "    </tr>\n",
       "    <tr>\n",
       "      <th>5</th>\n",
       "      <td>fast-food</td>\n",
       "      <td>611.450057</td>\n",
       "      <td>16.044049</td>\n",
       "      <td>0.120511</td>\n",
       "      <td>9.785353</td>\n",
       "      <td>0.000088</td>\n",
       "      <td>0.000088</td>\n",
       "      <td>0.938720</td>\n",
       "      <td>1095.690730</td>\n",
       "      <td>22.627429</td>\n",
       "      <td>...</td>\n",
       "      <td>0.000089</td>\n",
       "      <td>0.000089</td>\n",
       "      <td>0.933488</td>\n",
       "      <td>1129.633455</td>\n",
       "      <td>23.177403</td>\n",
       "      <td>0.067758</td>\n",
       "      <td>10.130787</td>\n",
       "      <td>0.000056</td>\n",
       "      <td>0.000056</td>\n",
       "      <td>0.886911</td>\n",
       "    </tr>\n",
       "    <tr>\n",
       "      <th>6</th>\n",
       "      <td>fast-food</td>\n",
       "      <td>61.596809</td>\n",
       "      <td>3.506947</td>\n",
       "      <td>0.554388</td>\n",
       "      <td>6.293410</td>\n",
       "      <td>0.101214</td>\n",
       "      <td>0.101214</td>\n",
       "      <td>0.992741</td>\n",
       "      <td>141.757668</td>\n",
       "      <td>5.564778</td>\n",
       "      <td>...</td>\n",
       "      <td>0.099103</td>\n",
       "      <td>0.099103</td>\n",
       "      <td>0.988522</td>\n",
       "      <td>146.768250</td>\n",
       "      <td>5.853234</td>\n",
       "      <td>0.467890</td>\n",
       "      <td>6.654032</td>\n",
       "      <td>0.097932</td>\n",
       "      <td>0.097932</td>\n",
       "      <td>0.982688</td>\n",
       "    </tr>\n",
       "    <tr>\n",
       "      <th>7</th>\n",
       "      <td>fast-food</td>\n",
       "      <td>239.164468</td>\n",
       "      <td>8.362997</td>\n",
       "      <td>0.246359</td>\n",
       "      <td>8.813386</td>\n",
       "      <td>0.000597</td>\n",
       "      <td>0.000597</td>\n",
       "      <td>0.971704</td>\n",
       "      <td>563.422328</td>\n",
       "      <td>12.751574</td>\n",
       "      <td>...</td>\n",
       "      <td>0.000546</td>\n",
       "      <td>0.000546</td>\n",
       "      <td>0.955644</td>\n",
       "      <td>515.423027</td>\n",
       "      <td>11.892621</td>\n",
       "      <td>0.182783</td>\n",
       "      <td>9.118324</td>\n",
       "      <td>0.000416</td>\n",
       "      <td>0.000416</td>\n",
       "      <td>0.939119</td>\n",
       "    </tr>\n",
       "    <tr>\n",
       "      <th>8</th>\n",
       "      <td>fast-food</td>\n",
       "      <td>150.433916</td>\n",
       "      <td>7.605169</td>\n",
       "      <td>0.232507</td>\n",
       "      <td>8.921361</td>\n",
       "      <td>0.000325</td>\n",
       "      <td>0.000325</td>\n",
       "      <td>0.978131</td>\n",
       "      <td>248.495983</td>\n",
       "      <td>9.974415</td>\n",
       "      <td>...</td>\n",
       "      <td>0.000321</td>\n",
       "      <td>0.000321</td>\n",
       "      <td>0.981362</td>\n",
       "      <td>240.796688</td>\n",
       "      <td>9.617177</td>\n",
       "      <td>0.191230</td>\n",
       "      <td>9.141641</td>\n",
       "      <td>0.000244</td>\n",
       "      <td>0.000244</td>\n",
       "      <td>0.965048</td>\n",
       "    </tr>\n",
       "    <tr>\n",
       "      <th>9</th>\n",
       "      <td>fast-food</td>\n",
       "      <td>175.700240</td>\n",
       "      <td>7.685661</td>\n",
       "      <td>0.290144</td>\n",
       "      <td>8.646782</td>\n",
       "      <td>0.000993</td>\n",
       "      <td>0.000993</td>\n",
       "      <td>0.978751</td>\n",
       "      <td>390.676463</td>\n",
       "      <td>12.209749</td>\n",
       "      <td>...</td>\n",
       "      <td>0.000738</td>\n",
       "      <td>0.000738</td>\n",
       "      <td>0.974961</td>\n",
       "      <td>306.519974</td>\n",
       "      <td>10.649219</td>\n",
       "      <td>0.204080</td>\n",
       "      <td>9.010153</td>\n",
       "      <td>0.000623</td>\n",
       "      <td>0.000623</td>\n",
       "      <td>0.962947</td>\n",
       "    </tr>\n",
       "  </tbody>\n",
       "</table>\n",
       "<p>10 rows × 29 columns</p>\n",
       "</div>"
      ],
      "text/plain": [
       "        path     kontras0  dissimilarity0  homogenitas0  entropi0      asm0  \\\n",
       "0  fast-food   120.453340        6.495586      0.236193  8.926496  0.000216   \n",
       "1  fast-food   176.730498        8.408995      0.165553  8.974094  0.000223   \n",
       "2  fast-food  1156.074459       20.088963      0.125185  9.659761  0.000200   \n",
       "3  fast-food   205.873741        9.234456      0.162262  9.221891  0.000220   \n",
       "4  fast-food   276.401076       10.381111      0.164868  9.258960  0.000199   \n",
       "5  fast-food   611.450057       16.044049      0.120511  9.785353  0.000088   \n",
       "6  fast-food    61.596809        3.506947      0.554388  6.293410  0.101214   \n",
       "7  fast-food   239.164468        8.362997      0.246359  8.813386  0.000597   \n",
       "8  fast-food   150.433916        7.605169      0.232507  8.921361  0.000325   \n",
       "9  fast-food   175.700240        7.685661      0.290144  8.646782  0.000993   \n",
       "\n",
       "    energi0  correlation0    kontras45  dissimilarity45  ...     asm90  \\\n",
       "0  0.000216      0.988066   242.067950         9.438963  ...  0.000162   \n",
       "1  0.000223      0.966888   315.747108        11.085837  ...  0.000249   \n",
       "2  0.000200      0.916571  1824.586052        26.301717  ...  0.000213   \n",
       "3  0.000220      0.981645   481.411467        14.249841  ...  0.000180   \n",
       "4  0.000199      0.967434   620.398318        15.940688  ...  0.000171   \n",
       "5  0.000088      0.938720  1095.690730        22.627429  ...  0.000089   \n",
       "6  0.101214      0.992741   141.757668         5.564778  ...  0.099103   \n",
       "7  0.000597      0.971704   563.422328        12.751574  ...  0.000546   \n",
       "8  0.000325      0.978131   248.495983         9.974415  ...  0.000321   \n",
       "9  0.000993      0.978751   390.676463        12.209749  ...  0.000738   \n",
       "\n",
       "   energi90  correlation90   kontras135  dissimilarity135  homogenitas135  \\\n",
       "0  0.000162       0.979103   373.491710         11.223419        0.144822   \n",
       "1  0.000249       0.966435   307.730981         11.255349        0.123010   \n",
       "2  0.000213       0.932012  1835.797602         26.497889        0.093650   \n",
       "3  0.000180       0.972769   445.157944         13.774665        0.109468   \n",
       "4  0.000171       0.957926   486.107997         13.847786        0.123707   \n",
       "5  0.000089       0.933488  1129.633455         23.177403        0.067758   \n",
       "6  0.099103       0.988522   146.768250          5.853234        0.467890   \n",
       "7  0.000546       0.955644   515.423027         11.892621        0.182783   \n",
       "8  0.000321       0.981362   240.796688          9.617177        0.191230   \n",
       "9  0.000738       0.974961   306.519974         10.649219        0.204080   \n",
       "\n",
       "   entropi135    asm135  energi135  correlation135  \n",
       "0    9.430210  0.000124   0.000124        0.963085  \n",
       "1    9.244417  0.000165   0.000165        0.942235  \n",
       "2    9.893832  0.000139   0.000139        0.867657  \n",
       "3    9.578800  0.000146   0.000146        0.960335  \n",
       "4    9.522920  0.000141   0.000141        0.942768  \n",
       "5   10.130787  0.000056   0.000056        0.886911  \n",
       "6    6.654032  0.097932   0.097932        0.982688  \n",
       "7    9.118324  0.000416   0.000416        0.939119  \n",
       "8    9.141641  0.000244   0.000244        0.965048  \n",
       "9    9.010153  0.000623   0.000623        0.962947  \n",
       "\n",
       "[10 rows x 29 columns]"
      ]
     },
     "execution_count": 17,
     "metadata": {},
     "output_type": "execute_result"
    }
   ],
   "source": [
    "data0 = []\n",
    "angles = ['0', '45', '90', '135']\n",
    "result = []\n",
    "\n",
    "n = 1500\n",
    "\n",
    "for j in tqdm(range(min(len(features), n)), desc=\"Ekstraksi\"):\n",
    "    eks = [folder]\n",
    "\n",
    "    for i in features[j]:\n",
    "        co = kontras(i)\n",
    "        eks.append(co)\n",
    "        di = dissimilarity(i)\n",
    "        eks.append(di)\n",
    "        ho = homogenitas(i)\n",
    "        eks.append(ho)\n",
    "        ent = entropy(i)\n",
    "        eks.append(ent)\n",
    "        asmV = asm(i)\n",
    "        eks.append(asmV)\n",
    "        en = energy(i)\n",
    "        eks.append(en)\n",
    "        ko = korelasi(i)\n",
    "        eks.append(ko)\n",
    "\n",
    "    result.append(eks)\n",
    "\n",
    "headers = ['path']\n",
    "for angle in angles:\n",
    "    headers.extend([f'kontras{angle}', f'dissimilarity{angle}', f'homogenitas{angle}', f'entropi{angle}', f'asm{angle}', f'energi{angle}', f'correlation{angle}'])\n",
    "\n",
    "df = pd.DataFrame(result, columns=headers)\n",
    "df.head(10)\n"
   ]
  },
  {
   "attachments": {},
   "cell_type": "markdown",
   "metadata": {},
   "source": [
    "pada code diatas merupakan code untuk melakukan menampilkan hasil dari kontras, dissimilarity, homogenitas, entropy, asm, energy , dan korelasi dari setiap citra. dengan derajat yang sudah dibuat sebelumnya yaitu 0, 45, 90, dan 135 derajat. dan menampilkan hasil tersebut dengan data frame sehingga daa tersebut terlihat rapi"
   ]
  },
  {
   "cell_type": "code",
   "execution_count": 18,
   "metadata": {},
   "outputs": [
    {
     "name": "stdout",
     "output_type": "stream",
     "text": [
      "5 Korelasi Tertinggi:\n",
      "asm0 - energi0: 1.0\n",
      "asm45 - energi45: 1.0\n",
      "asm135 - energi135: 1.0\n",
      "asm90 - energi90: 0.9999999999999998\n",
      "asm45 - asm135: 0.9999925892122783\n"
     ]
    }
   ],
   "source": [
    "subset_df = df.drop('path', axis=1)\n",
    "\n",
    "n_features = len(subset_df.columns)\n",
    "corr_matrix = np.zeros((n_features, n_features))\n",
    "\n",
    "for i in range(n_features):\n",
    "    for j in range(i+1, n_features):\n",
    "        feature1 = subset_df.columns[i]\n",
    "        feature2 = subset_df.columns[j]\n",
    "        data1 = subset_df[feature1].values\n",
    "        data2 = subset_df[feature2].values\n",
    "\n",
    "        valid_indices = np.isfinite(data1) & np.isfinite(data2)\n",
    "        if np.sum(valid_indices) > 0:\n",
    "            corr = np.corrcoef(data1[valid_indices], data2[valid_indices])[0, 1]\n",
    "            corr_matrix[i, j] = corr\n",
    "            corr_matrix[j, i] = corr\n",
    "\n",
    "top_correlations = []\n",
    "for i in range(n_features):\n",
    "    for j in range(i+1, n_features):\n",
    "        feature1 = subset_df.columns[i]\n",
    "        feature2 = subset_df.columns[j]\n",
    "        correlation = corr_matrix[i, j]\n",
    "        top_correlations.append(((feature1, feature2), correlation))\n",
    "\n",
    "top_correlations.sort(key=lambda x: x[1], reverse=True)\n",
    "top_correlations = top_correlations[:5]\n",
    "\n",
    "print(\"5 Korelasi Tertinggi:\")\n",
    "for (feature1, feature2), correlation in top_correlations:\n",
    "    print(f\"{feature1} - {feature2}: {correlation}\")"
   ]
  },
  {
   "attachments": {},
   "cell_type": "markdown",
   "metadata": {},
   "source": [
    "DataFrame df diambil subsetnya dengan menghapus kolom 'path' menggunakan metode drop dengan parameter axis=1. Subset DataFrame ini disimpan dalam variabel subset_df. Jumlah fitur dalam subset_df dihitung dengan mengambil panjang dari subset_df.columns. Nilai ini disimpan dalam variabel n_features. Sebuah matriks kosong corr_matrix dengan dimensi n_features x n_features (sesuai dengan jumlah fitur) diinisialisasi menggunakan np.zeros. Dilakukan nested loop for i in range(n_features): dan for j in range(i+1, n_features): untuk mengiterasi setiap kombinasi pasangan fitur yang berbeda.\n",
    "Dalam setiap iterasi loop, nama fitur pertama dan fitur kedua diambil dari subset_df.columns[i] dan subset_df.columns[j] masing-masing. Data dari fitur pertama dan fitur kedua diambil dari subset_df menggunakan metode .values dan disimpan dalam variabel data1 dan data2. Indeks valid untuk data yang terdefinisi (np.isfinite) dari kedua fitur tersebut dihitung menggunakan operator &. Jika terdapat setidaknya satu indeks yang valid, maka dilakukan perhitungan korelasi antara data1 dan data2 menggunakan np.corrcoef. Nilai korelasi tersebut disimpan dalam variabel corr. Nilai korelasi antara fitur pertama dan fitur kedua disimpan dalam corr_matrix pada posisi (i, j) dan (j, i) agar matriks korelasi simetris.\n",
    "Sebuah list kosong top_correlations dibuat untuk menyimpan pasangan fitur dan nilai korelasi teratas.\n",
    "Dilakukan nested loop for i in range(n_features): dan for j in range(i+1, n_features): sekali lagi untuk mengiterasi setiap pasangan fitur yang berbeda. Dalam setiap iterasi loop, nama fitur pertama dan fitur kedua diambil dari subset_df.columns[i] dan subset_df.columns[j] masing-masing. Nilai korelasi antara fitur pertama dan fitur kedua diambil dari corr_matrix menggunakan indeks (i, j) dan disimpan dalam variabel correlation. Pasangan fitur dan nilai korelasi tersebut ditambahkan ke dalam top_correlations sebagai tuple. List top_correlations diurutkan berdasarkan nilai korelasi dengan metode .sort() dan parameter key=lambda x: x[1] untuk mengurutkan berdasarkan elemen kedua dari setiap tuple (nilai korelasi) secara menurun. List top_correlations dibatasi hingga 5 pasangan teratas menggunakan slicing [:5]. Setelah itu dilakukan loping untuk menemukan 5 korelasi tertinggi."
   ]
  },
  {
   "cell_type": "code",
   "execution_count": 20,
   "metadata": {},
   "outputs": [],
   "source": [
    "filecsv = 'GLCM.csv'\n",
    "\n",
    "with open(filecsv, mode='w', newline='') as file:\n",
    "    writer = csv.writer(file)\n",
    "    writer.writerows(result)"
   ]
  },
  {
   "attachments": {},
   "cell_type": "markdown",
   "metadata": {},
   "source": [
    "pada code diatas merupakan code untuk meyimpan file csv dengan cara membuat tempat penyimpanan dan memberi judul untuk nama csv, kemudian with digunakan untuk memastikan bahwa file akan ditutup secara otomatis setelah selesai digunakan. filecsv digunakan untuk menyimpan nama file CSV yang akan dibuka. Mode 'w' menunjukkan bahwa file akan dibuka dalam mode penulisan (write mode). kemudian menulis datanya pada file csv tersebut dan menulis data sesuai dengan data result tersebut."
   ]
  }
 ],
 "metadata": {
  "kernelspec": {
   "display_name": "base",
   "language": "python",
   "name": "python3"
  },
  "language_info": {
   "codemirror_mode": {
    "name": "ipython",
    "version": 3
   },
   "file_extension": ".py",
   "mimetype": "text/x-python",
   "name": "python",
   "nbconvert_exporter": "python",
   "pygments_lexer": "ipython3",
   "version": "3.9.13"
  },
  "orig_nbformat": 4
 },
 "nbformat": 4,
 "nbformat_minor": 2
}
